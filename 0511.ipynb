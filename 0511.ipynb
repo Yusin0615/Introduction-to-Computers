{
  "nbformat": 4,
  "nbformat_minor": 0,
  "metadata": {
    "colab": {
      "name": "0511.ipynb",
      "provenance": [],
      "authorship_tag": "ABX9TyPeWLTAM0ZBjSXG+XTi6TKa",
      "include_colab_link": true
    },
    "kernelspec": {
      "name": "python3",
      "display_name": "Python 3"
    },
    "language_info": {
      "name": "python"
    }
  },
  "cells": [
    {
      "cell_type": "markdown",
      "metadata": {
        "id": "view-in-github",
        "colab_type": "text"
      },
      "source": [
        "<a href=\"https://colab.research.google.com/github/Yusin0615/Introduction-to-Computers/blob/main/0511.ipynb\" target=\"_parent\"><img src=\"https://colab.research.google.com/assets/colab-badge.svg\" alt=\"Open In Colab\"/></a>"
      ]
    },
    {
      "cell_type": "code",
      "execution_count": null,
      "metadata": {
        "colab": {
          "base_uri": "https://localhost:8080/"
        },
        "id": "UkLwTjV0t7EF",
        "outputId": "468a0df8-0a7f-45db-f2dc-bb38929cc6f8"
      },
      "outputs": [
        {
          "output_type": "stream",
          "name": "stdout",
          "text": [
            "test\n"
          ]
        }
      ],
      "source": [
        "print(\"test\")"
      ]
    },
    {
      "cell_type": "code",
      "source": [
        "temp=float(input('請輸入你的體溫'))\n",
        "if temp>=37.5:\n",
        "    print('體溫過高！')\n",
        "elif temp>=37 and temp<37.4:\n",
        "    print('體溫略高！')\n",
        "elif temp>=34 and temp<36.9:\n",
        "    print('體溫正常！')\n",
        "else:\n",
        "    print('體溫異常，請重新測量！')"
      ],
      "metadata": {
        "colab": {
          "base_uri": "https://localhost:8080/"
        },
        "id": "KqzfoMObnpRm",
        "outputId": "9c4aa239-d695-4015-fabe-26e46a15693a"
      },
      "execution_count": null,
      "outputs": [
        {
          "output_type": "stream",
          "name": "stdout",
          "text": [
            "請輸入你的體溫33\n",
            "體溫異常，請重新測量！\n"
          ]
        }
      ]
    },
    {
      "cell_type": "code",
      "source": [
        "money=int(input(\"請輸入購物金額\"))\n",
        "if(money >= 10000):\n",
        "    if(money>=100000):\n",
        "        print(\"八折\",money*0.8,end=\"元\\n\")\n",
        "    elif(money>=50000):        \n",
        "        print(\"八五折\",money*0.85,end=\"元\\n\")\n",
        "    elif(money>=30000):\n",
        "        print(\"九折\",money*0.9,end=\"元\\n\") \n",
        "    else:\n",
        "        print(\"九五折\",money*0.95,end=\"元\\n\") \n",
        "else:\n",
        "  print(\"沒打折\",money,end=\"元\\n\")"
      ],
      "metadata": {
        "colab": {
          "base_uri": "https://localhost:8080/"
        },
        "id": "9ms0aCIkog1y",
        "outputId": "68eae825-4c9d-4b29-a183-7b8a409dd56f"
      },
      "execution_count": null,
      "outputs": [
        {
          "output_type": "stream",
          "name": "stdout",
          "text": [
            "請輸入購物金額50000\n",
            "八五折 42500.0元\n"
          ]
        }
      ]
    },
    {
      "cell_type": "code",
      "source": [
        "grade=int(input('請輸入分數'))\n",
        "if(grade >= 60):    \n",
        "    if(grade>=90):\n",
        "        print(\"A\")\n",
        "    elif(grade>=80):\n",
        "        print(\"B\")\n",
        "    elif(grade>=70):\n",
        "        print(\"C\")\n",
        "    elif(grade>=60):\n",
        "        print(\"D\")\n",
        "else:\n",
        "  print(\"E\") \n"
      ],
      "metadata": {
        "colab": {
          "base_uri": "https://localhost:8080/"
        },
        "id": "HdoZvcrqrUlB",
        "outputId": "1ced4aeb-604a-4771-c966-acfc64ad12d8"
      },
      "execution_count": null,
      "outputs": [
        {
          "output_type": "stream",
          "name": "stdout",
          "text": [
            "請輸入分數90\n",
            "A\n"
          ]
        }
      ]
    },
    {
      "cell_type": "code",
      "source": [
        "grade=int(input('請輸入分數'))\n",
        "if(grade >= 60):    \n",
        "    if(grade>=90):\n",
        "        print(\"A\")\n",
        "    elif(grade>=80):\n",
        "        print(\"B\")\n",
        "    elif(grade>=70):\n",
        "        print(\"C\")\n",
        "    elif(grade>=60):\n",
        "        print(\"D\")\n",
        "else:\n",
        "  print(\"E\") "
      ],
      "metadata": {
        "colab": {
          "base_uri": "https://localhost:8080/"
        },
        "id": "i19K2Y3C2Dw7",
        "outputId": "763ffe4b-de30-482e-c5c4-1769fed31e91"
      },
      "execution_count": null,
      "outputs": [
        {
          "output_type": "stream",
          "name": "stdout",
          "text": [
            "請輸入分數80\n",
            "B\n"
          ]
        }
      ]
    },
    {
      "cell_type": "code",
      "source": [
        "grade=int(input('請輸入分數'))\n",
        "if(grade >= 60):    \n",
        "    if(grade>=90):\n",
        "        print(\"A\")\n",
        "    elif(grade>=80):\n",
        "        print(\"B\")\n",
        "    elif(grade>=70):\n",
        "        print(\"C\")\n",
        "    elif(grade>=60):\n",
        "        print(\"D\")\n",
        "else:\n",
        "  print(\"E\") \n",
        "  "
      ],
      "metadata": {
        "colab": {
          "base_uri": "https://localhost:8080/"
        },
        "id": "Cpy-Mk0B2MFB",
        "outputId": "afdef7f9-ed74-45ad-e8b3-238bc835b724"
      },
      "execution_count": null,
      "outputs": [
        {
          "output_type": "stream",
          "name": "stdout",
          "text": [
            "請輸入分數50\n",
            "E\n"
          ]
        }
      ]
    },
    {
      "cell_type": "code",
      "source": [
        "season=float(input('請輸入季節'))\n",
        "if(season>12):\n",
        "    if(season>=3 and season<＝5):\n",
        "         print(\"是春天！\")\n",
        "    elif(season>=6 and season<＝8): \n",
        "         print(\"是夏天！\")\n",
        "    elif(season>=9 and season<＝11): \n",
        "         print(\"是秋天！\")\n",
        "    elif(season=12 and season>＝1 and season<＝2): \n",
        "         print(\"是冬天！\")   \n",
        "else:\n",
        "  print('月份不在範圍內！') "
      ],
      "metadata": {
        "colab": {
          "base_uri": "https://localhost:8080/",
          "height": 137
        },
        "id": "38YX98L2tzWD",
        "outputId": "1774dd33-4a55-491a-86ce-0d4d8ad98f63"
      },
      "execution_count": null,
      "outputs": [
        {
          "output_type": "error",
          "ename": "SyntaxError",
          "evalue": "ignored",
          "traceback": [
            "\u001b[0;36m  File \u001b[0;32m\"<ipython-input-48-4a3792f9dc9d>\"\u001b[0;36m, line \u001b[0;32m3\u001b[0m\n\u001b[0;31m    if(season>=3 and season<＝5):\u001b[0m\n\u001b[0m                             ^\u001b[0m\n\u001b[0;31mSyntaxError\u001b[0m\u001b[0;31m:\u001b[0m invalid character in identifier\n"
          ]
        }
      ]
    },
    {
      "cell_type": "code",
      "source": [
        "income=int(input('請輸入今年收入淨值收入'))\n",
        "if(income>=300000):\n",
        "    if(income>=2000000):\n",
        "        print(\"稅率為0.3\",\"付稅金額:\",income*0.3,end=\"元\\n\")\n",
        "    elif(income>=1000000): \n",
        "        print(\"稅率為0.21\",\"付稅金額:\",income*0.21,end=\"元\\n\")\n",
        "    elif(income>=600000):\n",
        "        print(\"稅率為0.13\",\"付稅金額:\",income*0.13,end=\"元\\n\")\n",
        "    elif(income>=300000):\n",
        "        print(\"稅率為0.06\",\"付稅金額:\",income*0.06,end=\"元\\n\") \n",
        "else:\n",
        "  print('付稅金額：0元')        "
      ],
      "metadata": {
        "colab": {
          "base_uri": "https://localhost:8080/"
        },
        "id": "XPg4lPJmwtlK",
        "outputId": "668166f7-11db-4efd-af0e-d7297306234f"
      },
      "execution_count": null,
      "outputs": [
        {
          "output_type": "stream",
          "name": "stdout",
          "text": [
            "請輸入今年收入淨值收入100000\n",
            "付稅金額：0元\n"
          ]
        }
      ]
    },
    {
      "cell_type": "code",
      "source": [
        "income=int(input('請輸入今年收入淨值收入'))\n",
        "if(income>=300000):\n",
        "    if(income>=2000000):\n",
        "        print(\"稅率為0.3\",\"付稅金額:\",income*0.3,end=\"元\\n\")\n",
        "    elif(income>=1000000): \n",
        "        print(\"稅率為0.21\",\"付稅金額:\",income*0.21,end=\"元\\n\")\n",
        "    elif(income>=600000):\n",
        "        print(\"稅率為0.13\",\"付稅金額:\",income*0.13,end=\"元\\n\")\n",
        "    elif(income>=300000):\n",
        "        print(\"稅率為0.06\",\"付稅金額:\",income*0.06,end=\"元\\n\") \n",
        "else:\n",
        "  print('付稅金額：0元') "
      ],
      "metadata": {
        "colab": {
          "base_uri": "https://localhost:8080/"
        },
        "id": "_A63It4X2TTz",
        "outputId": "3d57fcf9-4d43-4647-cb99-4120711852e4"
      },
      "execution_count": null,
      "outputs": [
        {
          "output_type": "stream",
          "name": "stdout",
          "text": [
            "請輸入今年收入淨值收入2000000\n",
            "稅率為0.3 付稅金額: 600000.0元\n"
          ]
        }
      ]
    }
  ]
}
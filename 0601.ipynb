{
  "nbformat": 4,
  "nbformat_minor": 0,
  "metadata": {
    "colab": {
      "name": "0601.ipynb",
      "provenance": [],
      "authorship_tag": "ABX9TyNu/iCuE4+a5HaXd0KjrI6t",
      "include_colab_link": true
    },
    "kernelspec": {
      "name": "python3",
      "display_name": "Python 3"
    },
    "language_info": {
      "name": "python"
    }
  },
  "cells": [
    {
      "cell_type": "markdown",
      "metadata": {
        "id": "view-in-github",
        "colab_type": "text"
      },
      "source": [
        "<a href=\"https://colab.research.google.com/github/Yusin0615/Introduction-to-Computers/blob/main/0601.ipynb\" target=\"_parent\"><img src=\"https://colab.research.google.com/assets/colab-badge.svg\" alt=\"Open In Colab\"/></a>"
      ]
    },
    {
      "cell_type": "code",
      "execution_count": null,
      "metadata": {
        "colab": {
          "base_uri": "https://localhost:8080/"
        },
        "id": "BcGFEgV9nV2E",
        "outputId": "d5a68a5a-5207-4677-fed3-e6f000e48aee"
      },
      "outputs": [
        {
          "output_type": "stream",
          "name": "stdout",
          "text": [
            "0601\n"
          ]
        }
      ],
      "source": [
        "print('0601')"
      ]
    },
    {
      "cell_type": "code",
      "source": [
        "for i in range (2,10):\n",
        "    for j in range (1,10):\n",
        "        product=i*j\n",
        "        print('%d*%d=%2d ' %(i,j,product),end='')\n",
        "    print()"
      ],
      "metadata": {
        "colab": {
          "base_uri": "https://localhost:8080/"
        },
        "id": "OUCTPHGtndGr",
        "outputId": "19761fcc-e885-44ae-b4c1-a9347ebf3bbe"
      },
      "execution_count": null,
      "outputs": [
        {
          "output_type": "stream",
          "name": "stdout",
          "text": [
            "2*1= 2 2*2= 4 2*3= 6 2*4= 8 2*5=10 2*6=12 2*7=14 2*8=16 2*9=18 \n",
            "3*1= 3 3*2= 6 3*3= 9 3*4=12 3*5=15 3*6=18 3*7=21 3*8=24 3*9=27 \n",
            "4*1= 4 4*2= 8 4*3=12 4*4=16 4*5=20 4*6=24 4*7=28 4*8=32 4*9=36 \n",
            "5*1= 5 5*2=10 5*3=15 5*4=20 5*5=25 5*6=30 5*7=35 5*8=40 5*9=45 \n",
            "6*1= 6 6*2=12 6*3=18 6*4=24 6*5=30 6*6=36 6*7=42 6*8=48 6*9=54 \n",
            "7*1= 7 7*2=14 7*3=21 7*4=28 7*5=35 7*6=42 7*7=49 7*8=56 7*9=63 \n",
            "8*1= 8 8*2=16 8*3=24 8*4=32 8*5=40 8*6=48 8*7=56 8*8=64 8*9=72 \n",
            "9*1= 9 9*2=18 9*3=27 9*4=36 9*5=45 9*6=54 9*7=63 9*8=72 9*9=81 \n"
          ]
        }
      ]
    },
    {
      "cell_type": "code",
      "source": [
        "a=int(input('請輸入a的值:'))\n",
        "b=int(input('請輸入b的值:'))\n",
        "\n",
        "maxno=a*b\n",
        "for i in range(1,maxno+1):\n",
        "    if(i%a==0 and i%b==0):\n",
        "        break\n",
        "print('%d和 %d的最小公倍數=%d'%(a,b,i))"
      ],
      "metadata": {
        "colab": {
          "base_uri": "https://localhost:8080/"
        },
        "id": "p8DFX2EMo5Il",
        "outputId": "24c6fd70-3aec-458e-fa3c-0f3127bb162e"
      },
      "execution_count": null,
      "outputs": [
        {
          "output_type": "stream",
          "name": "stdout",
          "text": [
            "請輸入a的值:5\n",
            "請輸入b的值:4\n",
            "5和 4的最小公倍數=20\n"
          ]
        }
      ]
    },
    {
      "cell_type": "code",
      "source": [
        "n=int(input('請輸入正整數：'))\n",
        "for i in range(1,n+1):\n",
        "    if i %5==0:\n",
        "        continue\n",
        "    print(i,end=' ')"
      ],
      "metadata": {
        "colab": {
          "base_uri": "https://localhost:8080/"
        },
        "id": "eph6UCIqq1eZ",
        "outputId": "469a1300-38b6-4ed3-e6a4-98103aeba120"
      },
      "execution_count": null,
      "outputs": [
        {
          "output_type": "stream",
          "name": "stdout",
          "text": [
            "請輸入正整數：25\n",
            "1 2 3 4 6 7 8 9 11 12 13 14 16 17 18 19 21 22 23 24 "
          ]
        }
      ]
    },
    {
      "cell_type": "code",
      "source": [
        "total=n=0\n",
        "while(n<10):\n",
        "    n+=1\n",
        "    total+=n\n",
        "print(total)"
      ],
      "metadata": {
        "colab": {
          "base_uri": "https://localhost:8080/"
        },
        "id": "ibkirnyMsD2q",
        "outputId": "fd3268e6-544c-4740-b10f-22168fa13b53"
      },
      "execution_count": null,
      "outputs": [
        {
          "output_type": "stream",
          "name": "stdout",
          "text": [
            "55\n"
          ]
        }
      ]
    },
    {
      "cell_type": "code",
      "source": [
        "total=n=0\n",
        "while(n<=10):\n",
        "    total+=n\n",
        "    n+=1\n",
        "print(total)"
      ],
      "metadata": {
        "colab": {
          "base_uri": "https://localhost:8080/"
        },
        "id": "J0F93sgdtxiV",
        "outputId": "51d8c7b0-e090-4037-d0ad-e93525eff7ec"
      },
      "execution_count": null,
      "outputs": [
        {
          "output_type": "stream",
          "name": "stdout",
          "text": [
            "55\n"
          ]
        }
      ]
    },
    {
      "cell_type": "code",
      "source": [
        "total=i=1\n",
        "n=int(input('請輸入正整數：'))\n",
        "while i<=n:\n",
        "    total*= i\n",
        "    i+=1\n",
        "print('%d!=%d'%(n,total))"
      ],
      "metadata": {
        "colab": {
          "base_uri": "https://localhost:8080/"
        },
        "id": "TNLNdin9uf-M",
        "outputId": "63ab3da7-36f4-426a-8487-ee2bfb13c484"
      },
      "execution_count": null,
      "outputs": [
        {
          "output_type": "stream",
          "name": "stdout",
          "text": [
            "請輸入正整數：100\n",
            "100!=93326215443944152681699238856266700490715968264381621468592963895217599993229915608941463976156518286253697920827223758251185210916864000000000000000000000000\n"
          ]
        }
      ]
    },
    {
      "cell_type": "code",
      "source": [
        "sum=0\n",
        "for i in range(0,50):\n",
        "    if i%2==0:\n",
        "        sum=sum+i\n",
        "print(\"0~50的偶數和結果是\",sum)"
      ],
      "metadata": {
        "colab": {
          "base_uri": "https://localhost:8080/"
        },
        "id": "56I33D1UwhGC",
        "outputId": "03e9bf71-4005-43ce-e439-c43a455f6624"
      },
      "execution_count": null,
      "outputs": [
        {
          "output_type": "stream",
          "name": "stdout",
          "text": [
            "0~50的偶數和結果是 600\n"
          ]
        }
      ]
    },
    {
      "cell_type": "code",
      "source": [
        "sum=0\n",
        "for i in range(0,50):\n",
        "    if i%2==1:\n",
        "        sum=sum+i\n",
        "print(\"0~50的基數和結果是\",sum)"
      ],
      "metadata": {
        "colab": {
          "base_uri": "https://localhost:8080/"
        },
        "id": "Bu5dk6H_D5bo",
        "outputId": "74f4e50b-677c-4174-f263-43c016abf8ca"
      },
      "execution_count": null,
      "outputs": [
        {
          "output_type": "stream",
          "name": "stdout",
          "text": [
            "0~50的基數和結果是 625\n"
          ]
        }
      ]
    },
    {
      "cell_type": "code",
      "source": [
        "s=\"\"\n",
        "n=int(input('請輸入正整數：'))\n",
        "for i in range(0,n):\n",
        "    for j in range(1,n+1-i):\n",
        "        s+=\"*\"\n",
        "    s+=\"\\n\"\n",
        "    print(s)"
      ],
      "metadata": {
        "colab": {
          "base_uri": "https://localhost:8080/"
        },
        "id": "IIoW-SKQEDVD",
        "outputId": "7c0f4b7b-2d30-4574-f5e6-a04f307f2e14"
      },
      "execution_count": 16,
      "outputs": [
        {
          "output_type": "stream",
          "name": "stdout",
          "text": [
            "請輸入正整數：7\n",
            "*******\n",
            "\n",
            "*******\n",
            "******\n",
            "\n",
            "*******\n",
            "******\n",
            "*****\n",
            "\n",
            "*******\n",
            "******\n",
            "*****\n",
            "****\n",
            "\n",
            "*******\n",
            "******\n",
            "*****\n",
            "****\n",
            "***\n",
            "\n",
            "*******\n",
            "******\n",
            "*****\n",
            "****\n",
            "***\n",
            "**\n",
            "\n",
            "*******\n",
            "******\n",
            "*****\n",
            "****\n",
            "***\n",
            "**\n",
            "*\n",
            "\n"
          ]
        }
      ]
    },
    {
      "cell_type": "code",
      "source": [
        "s=\"\"\n",
        "n=int(input('請輸入正整數：'))\n",
        "for i in range(0,n):\n",
        "    for j in range(1,n+1-i):\n",
        "        s+=\"*\"\n",
        "    s+=\"\\n\"\n",
        "    print(s)"
      ],
      "metadata": {
        "colab": {
          "base_uri": "https://localhost:8080/"
        },
        "id": "vYj9cOhMT8Nm",
        "outputId": "f385f1ee-964b-4ed0-c3a0-a3e2a77837ab"
      },
      "execution_count": 17,
      "outputs": [
        {
          "output_type": "stream",
          "name": "stdout",
          "text": [
            "請輸入正整數：5\n",
            "*****\n",
            "\n",
            "*****\n",
            "****\n",
            "\n",
            "*****\n",
            "****\n",
            "***\n",
            "\n",
            "*****\n",
            "****\n",
            "***\n",
            "**\n",
            "\n",
            "*****\n",
            "****\n",
            "***\n",
            "**\n",
            "*\n",
            "\n"
          ]
        }
      ]
    },
    {
      "cell_type": "code",
      "source": [
        "sum=0\n",
        "for i in range(1,101):\n",
        "    if i%3==0 or i%7==0:\n",
        "        sum+=i\n",
        "print('數值1~100中，所有是3或7倍數的數之總和=' +str(sum))"
      ],
      "metadata": {
        "colab": {
          "base_uri": "https://localhost:8080/"
        },
        "id": "V9xwyEDWGQoe",
        "outputId": "585b228a-0056-493e-d671-5f321c37a1c7"
      },
      "execution_count": null,
      "outputs": [
        {
          "output_type": "stream",
          "name": "stdout",
          "text": [
            "數值1~100中，所有是3或7倍數的數之總和=2208\n"
          ]
        }
      ]
    },
    {
      "cell_type": "code",
      "source": [
        "n=int(input('請輸入正整數：'))\n",
        "for i in range(1,n+1):\n",
        "    if n % i ==0 :\n",
        "        print(i,end=' ')\n",
        "print(i,\"不是質數\")\n",
        "\n",
        " "
      ],
      "metadata": {
        "colab": {
          "base_uri": "https://localhost:8080/"
        },
        "id": "sVWWrf3YKRMF",
        "outputId": "a202d98d-f8f3-40f9-c40e-b58b6405f4eb"
      },
      "execution_count": null,
      "outputs": [
        {
          "output_type": "stream",
          "name": "stdout",
          "text": [
            "請輸入正整數：12\n",
            "1 2 3 4 6 12 12 不是質數\n"
          ]
        }
      ]
    },
    {
      "cell_type": "code",
      "source": [
        "n=int(input('請輸入正整數：'))\n",
        "for i in range(1,n+1):\n",
        "    if n % i ==0 :\n",
        "        print(i,end=' ')\n",
        "print(i,\"是質數\")"
      ],
      "metadata": {
        "colab": {
          "base_uri": "https://localhost:8080/"
        },
        "id": "7LgB6wpdQZJJ",
        "outputId": "876500c5-262a-44d1-93df-018c7d46e38c"
      },
      "execution_count": null,
      "outputs": [
        {
          "output_type": "stream",
          "name": "stdout",
          "text": [
            "請輸入正整數：11\n",
            "1 11 11 是質數\n"
          ]
        }
      ]
    }
  ]
}
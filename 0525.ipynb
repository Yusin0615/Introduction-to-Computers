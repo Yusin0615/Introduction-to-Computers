{
  "nbformat": 4,
  "nbformat_minor": 0,
  "metadata": {
    "colab": {
      "name": "0525.ipynb",
      "provenance": [],
      "authorship_tag": "ABX9TyOuW2t+Vd4/62cXgwzs4xKq",
      "include_colab_link": true
    },
    "kernelspec": {
      "name": "python3",
      "display_name": "Python 3"
    },
    "language_info": {
      "name": "python"
    }
  },
  "cells": [
    {
      "cell_type": "markdown",
      "metadata": {
        "id": "view-in-github",
        "colab_type": "text"
      },
      "source": [
        "<a href=\"https://colab.research.google.com/github/Yusin0615/Introduction-to-Computers/blob/main/0525.ipynb\" target=\"_parent\"><img src=\"https://colab.research.google.com/assets/colab-badge.svg\" alt=\"Open In Colab\"/></a>"
      ]
    },
    {
      "cell_type": "code",
      "execution_count": null,
      "metadata": {
        "id": "m5W1kuci6mcR",
        "colab": {
          "base_uri": "https://localhost:8080/"
        },
        "outputId": "bc41a0dc-5ad3-49ee-8c63-4b61c7436697"
      },
      "outputs": [
        {
          "output_type": "stream",
          "name": "stdout",
          "text": [
            "test\n"
          ]
        }
      ],
      "source": [
        "print(\"test\")"
      ]
    },
    {
      "cell_type": "code",
      "source": [
        "sum=0\n",
        "test=int(input(\"請輸入一個正整數:\"))\n",
        "for n in range (1,test+1):\n",
        "    sum=sum+n\n",
        "print('1到',test,'的整數和為',sum)"
      ],
      "metadata": {
        "colab": {
          "base_uri": "https://localhost:8080/"
        },
        "id": "xb9W-pJDkPnT",
        "outputId": "ccbd7b91-d4ad-43d0-c6e6-cf2a90b38693"
      },
      "execution_count": null,
      "outputs": [
        {
          "output_type": "stream",
          "name": "stdout",
          "text": [
            "請輸入一個正整數:50\n",
            "1到 50 的整數和為 1275\n"
          ]
        }
      ]
    },
    {
      "cell_type": "code",
      "source": [
        "sum=0\n",
        "test=int(input(\"請輸入一個正整數:\"))\n",
        "for m in range (1,test+1):\n",
        "    sum=sum+m\n",
        "    print('1到',str(m)+'的整數和為',sum)"
      ],
      "metadata": {
        "colab": {
          "base_uri": "https://localhost:8080/"
        },
        "id": "vzAENolJlD1G",
        "outputId": "df8f59ec-6caa-4d8b-f409-6c51f9f8f975"
      },
      "execution_count": null,
      "outputs": [
        {
          "output_type": "stream",
          "name": "stdout",
          "text": [
            "請輸入一個正整數:50\n",
            "1到 1的整數和為 1\n",
            "1到 2的整數和為 3\n",
            "1到 3的整數和為 6\n",
            "1到 4的整數和為 10\n",
            "1到 5的整數和為 15\n",
            "1到 6的整數和為 21\n",
            "1到 7的整數和為 28\n",
            "1到 8的整數和為 36\n",
            "1到 9的整數和為 45\n",
            "1到 10的整數和為 55\n",
            "1到 11的整數和為 66\n",
            "1到 12的整數和為 78\n",
            "1到 13的整數和為 91\n",
            "1到 14的整數和為 105\n",
            "1到 15的整數和為 120\n",
            "1到 16的整數和為 136\n",
            "1到 17的整數和為 153\n",
            "1到 18的整數和為 171\n",
            "1到 19的整數和為 190\n",
            "1到 20的整數和為 210\n",
            "1到 21的整數和為 231\n",
            "1到 22的整數和為 253\n",
            "1到 23的整數和為 276\n",
            "1到 24的整數和為 300\n",
            "1到 25的整數和為 325\n",
            "1到 26的整數和為 351\n",
            "1到 27的整數和為 378\n",
            "1到 28的整數和為 406\n",
            "1到 29的整數和為 435\n",
            "1到 30的整數和為 465\n",
            "1到 31的整數和為 496\n",
            "1到 32的整數和為 528\n",
            "1到 33的整數和為 561\n",
            "1到 34的整數和為 595\n",
            "1到 35的整數和為 630\n",
            "1到 36的整數和為 666\n",
            "1到 37的整數和為 703\n",
            "1到 38的整數和為 741\n",
            "1到 39的整數和為 780\n",
            "1到 40的整數和為 820\n",
            "1到 41的整數和為 861\n",
            "1到 42的整數和為 903\n",
            "1到 43的整數和為 946\n",
            "1到 44的整數和為 990\n",
            "1到 45的整數和為 1035\n",
            "1到 46的整數和為 1081\n",
            "1到 47的整數和為 1128\n",
            "1到 48的整數和為 1176\n",
            "1到 49的整數和為 1225\n",
            "1到 50的整數和為 1275\n"
          ]
        }
      ]
    },
    {
      "cell_type": "code",
      "source": [
        "for j in range(1,5):\n",
        "    print(j)\n",
        "    for i in range(1,3):\n",
        "        k=i*j \n",
        "        print(j,\"*\",i,\"=\",k)"
      ],
      "metadata": {
        "colab": {
          "base_uri": "https://localhost:8080/"
        },
        "id": "tkiS9j-6m3Pv",
        "outputId": "032b0bed-4f9f-4b94-8efa-5835db0dad2a"
      },
      "execution_count": null,
      "outputs": [
        {
          "output_type": "stream",
          "name": "stdout",
          "text": [
            "1\n",
            "1 * 1 = 1\n",
            "1 * 2 = 2\n",
            "2\n",
            "2 * 1 = 2\n",
            "2 * 2 = 4\n",
            "3\n",
            "3 * 1 = 3\n",
            "3 * 2 = 6\n",
            "4\n",
            "4 * 1 = 4\n",
            "4 * 2 = 8\n"
          ]
        }
      ]
    },
    {
      "cell_type": "code",
      "source": [
        "for j in range(1,6):\n",
        "    print(j)\n",
        "    for i in range(1,3):\n",
        "        k=i*j \n",
        "        print(j,\"*\",i,\"=\",k)"
      ],
      "metadata": {
        "colab": {
          "base_uri": "https://localhost:8080/"
        },
        "id": "YsDh1DqKoSFQ",
        "outputId": "5404e4e6-5696-4525-80f7-bcea2d520934"
      },
      "execution_count": null,
      "outputs": [
        {
          "output_type": "stream",
          "name": "stdout",
          "text": [
            "1\n",
            "1 * 1 = 1\n",
            "1 * 2 = 2\n",
            "2\n",
            "2 * 1 = 2\n",
            "2 * 2 = 4\n",
            "3\n",
            "3 * 1 = 3\n",
            "3 * 2 = 6\n",
            "4\n",
            "4 * 1 = 4\n",
            "4 * 2 = 8\n",
            "5\n",
            "5 * 1 = 5\n",
            "5 * 2 = 10\n"
          ]
        }
      ]
    },
    {
      "cell_type": "code",
      "source": [
        "for i in range(1,5):\n",
        "    if(i==4):\n",
        "        break\n",
        "    print(i,end=\" \")"
      ],
      "metadata": {
        "colab": {
          "base_uri": "https://localhost:8080/"
        },
        "id": "fOO201BgpJE7",
        "outputId": "2db6976f-dc42-4ea6-8084-5300dbd20e04"
      },
      "execution_count": null,
      "outputs": [
        {
          "output_type": "stream",
          "name": "stdout",
          "text": [
            "1 2 3 "
          ]
        }
      ]
    },
    {
      "cell_type": "code",
      "source": [
        "for i in range(1,5):\n",
        "    if(i==3):\n",
        "        break\n",
        "    print(i,end=\" \")"
      ],
      "metadata": {
        "colab": {
          "base_uri": "https://localhost:8080/"
        },
        "id": "HDklHfSepzwE",
        "outputId": "b8560202-87b8-4da4-9f1c-3b8ff4a67365"
      },
      "execution_count": null,
      "outputs": [
        {
          "output_type": "stream",
          "name": "stdout",
          "text": [
            "1 2 "
          ]
        }
      ]
    },
    {
      "cell_type": "code",
      "source": [
        "count=0\n",
        "for string in 'hello!':\n",
        "    count+=1\n",
        "    if string=='o':\n",
        "        break\n",
        "    print(string)\n",
        "print('迴圈結束')\n",
        "print('迴圈執行了 %d次' %count)"
      ],
      "metadata": {
        "colab": {
          "base_uri": "https://localhost:8080/"
        },
        "id": "W1yQQMPNqcw3",
        "outputId": "f763b871-eaaa-48ba-afe3-bfa098c90297"
      },
      "execution_count": null,
      "outputs": [
        {
          "output_type": "stream",
          "name": "stdout",
          "text": [
            "h\n",
            "e\n",
            "l\n",
            "l\n",
            "迴圈結束\n",
            "迴圈執行了 5次\n"
          ]
        }
      ]
    },
    {
      "cell_type": "code",
      "source": [
        "count=0\n",
        "for string in '測試看看!':\n",
        "    count+=1\n",
        "    if string=='看':\n",
        "        break\n",
        "    print(string)\n",
        "print('迴圈結束')\n",
        "print('迴圈執行了 %d次' %count)"
      ],
      "metadata": {
        "colab": {
          "base_uri": "https://localhost:8080/"
        },
        "id": "R7QfwKWNr4bl",
        "outputId": "0842d160-f471-445b-91df-b5872e5586f1"
      },
      "execution_count": null,
      "outputs": [
        {
          "output_type": "stream",
          "name": "stdout",
          "text": [
            "測\n",
            "試\n",
            "迴圈結束\n",
            "迴圈執行了 3次\n"
          ]
        }
      ]
    },
    {
      "cell_type": "code",
      "source": [
        "for i in range(2, 10):\n",
        "    for j in range(1, 10):\n",
        "        print(str(i),'*'+ str(j) ,'=' + str(i * j) +\" \" , end='')\n",
        "    print( )"
      ],
      "metadata": {
        "colab": {
          "base_uri": "https://localhost:8080/"
        },
        "id": "Quw8fD8uv7y9",
        "outputId": "c1ab14b8-bc24-46a1-9a65-c8bd7c5efee9"
      },
      "execution_count": 12,
      "outputs": [
        {
          "output_type": "stream",
          "name": "stdout",
          "text": [
            "2 *1 =2 2 *2 =4 2 *3 =6 2 *4 =8 2 *5 =10 2 *6 =12 2 *7 =14 2 *8 =16 2 *9 =18 \n",
            "3 *1 =3 3 *2 =6 3 *3 =9 3 *4 =12 3 *5 =15 3 *6 =18 3 *7 =21 3 *8 =24 3 *9 =27 \n",
            "4 *1 =4 4 *2 =8 4 *3 =12 4 *4 =16 4 *5 =20 4 *6 =24 4 *7 =28 4 *8 =32 4 *9 =36 \n",
            "5 *1 =5 5 *2 =10 5 *3 =15 5 *4 =20 5 *5 =25 5 *6 =30 5 *7 =35 5 *8 =40 5 *9 =45 \n",
            "6 *1 =6 6 *2 =12 6 *3 =18 6 *4 =24 6 *5 =30 6 *6 =36 6 *7 =42 6 *8 =48 6 *9 =54 \n",
            "7 *1 =7 7 *2 =14 7 *3 =21 7 *4 =28 7 *5 =35 7 *6 =42 7 *7 =49 7 *8 =56 7 *9 =63 \n",
            "8 *1 =8 8 *2 =16 8 *3 =24 8 *4 =32 8 *5 =40 8 *6 =48 8 *7 =56 8 *8 =64 8 *9 =72 \n",
            "9 *1 =9 9 *2 =18 9 *3 =27 9 *4 =36 9 *5 =45 9 *6 =54 9 *7 =63 9 *8 =72 9 *9 =81 \n"
          ]
        }
      ]
    },
    {
      "cell_type": "code",
      "source": [
        "a = int(input(\"請輸入a的值:\"))\n",
        "b = int(input(\"請輸入b的值:\"))\n",
        "num1 = a\n",
        "num2 = b\n",
        "result = num1 % num2\n",
        "while result != 0 :\n",
        "    num1 = num2\n",
        "    num2 = result\n",
        "    result = num1 % num2\n",
        "print(\"%d和%d的最小公倍數＝%d\"%(a,b,a*b/num2))"
      ],
      "metadata": {
        "colab": {
          "base_uri": "https://localhost:8080/"
        },
        "id": "mZtT22kMzNXf",
        "outputId": "bb00de2c-e884-4182-9881-60dd14d8df70"
      },
      "execution_count": null,
      "outputs": [
        {
          "output_type": "stream",
          "name": "stdout",
          "text": [
            "請輸入a的值:4\n",
            "請輸入b的值:6\n",
            "4和6的最小公倍數＝12\n"
          ]
        }
      ]
    },
    {
      "cell_type": "code",
      "source": [
        "a = int(input(\"請輸入a的值:\"))\n",
        "b = int(input(\"請輸入b的值:\"))\n",
        "num1 = a\n",
        "num2 = b\n",
        "result = num1 % num2\n",
        "while result != 0 :\n",
        "    num1 = num2\n",
        "    num2 = result\n",
        "    result = num1 % num2\n",
        "print(\"%d和%d的最小公倍數＝%d\"%(a,b,a*b/num2))"
      ],
      "metadata": {
        "colab": {
          "base_uri": "https://localhost:8080/"
        },
        "id": "Vrmskg0VKj1q",
        "outputId": "0723975e-872b-4a63-9b6e-275516e88af4"
      },
      "execution_count": 14,
      "outputs": [
        {
          "output_type": "stream",
          "name": "stdout",
          "text": [
            "請輸入a的值:9\n",
            "請輸入b的值:15\n",
            "9和15的最小公倍數＝45\n"
          ]
        }
      ]
    },
    {
      "cell_type": "code",
      "source": [
        "for number in range(1,12):\n",
        "    if number%5==0:\n",
        "        continue\n",
        "    print(number,end=' ')"
      ],
      "metadata": {
        "colab": {
          "base_uri": "https://localhost:8080/"
        },
        "id": "oyHeJzKl4fKC",
        "outputId": "02f62c12-5674-49dc-be92-e5bbafcdcb4b"
      },
      "execution_count": 51,
      "outputs": [
        {
          "output_type": "stream",
          "name": "stdout",
          "text": [
            "1 2 3 4 6 7 8 9 11 "
          ]
        }
      ]
    },
    {
      "cell_type": "code",
      "source": [
        "for number in range(1,21):\n",
        "    if number%5==0:\n",
        "        continue\n",
        "    print(number,end=' ')"
      ],
      "metadata": {
        "colab": {
          "base_uri": "https://localhost:8080/"
        },
        "id": "qb8d2O4tMCS7",
        "outputId": "f38e083b-9825-4032-d99b-1f373d8afc7d"
      },
      "execution_count": 50,
      "outputs": [
        {
          "output_type": "stream",
          "name": "stdout",
          "text": [
            "1 2 3 4 6 7 8 9 11 12 13 14 16 17 18 19 "
          ]
        }
      ]
    }
  ]
}